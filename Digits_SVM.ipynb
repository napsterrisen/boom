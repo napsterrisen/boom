{
  "nbformat": 4,
  "nbformat_minor": 0,
  "metadata": {
    "kernelspec": {
      "display_name": "Python 3",
      "language": "python",
      "name": "python3"
    },
    "language_info": {
      "codemirror_mode": {
        "name": "ipython",
        "version": 3
      },
      "file_extension": ".py",
      "mimetype": "text/x-python",
      "name": "python",
      "nbconvert_exporter": "python",
      "pygments_lexer": "ipython3",
      "version": "3.6.1"
    },
    "colab": {
      "name": "Digits_SVM",
      "provenance": [],
      "collapsed_sections": [],
      "include_colab_link": true
    }
  },
  "cells": [
    {
      "cell_type": "markdown",
      "metadata": {
        "id": "view-in-github",
        "colab_type": "text"
      },
      "source": [
        "<a href=\"https://colab.research.google.com/github/napsterrisen/boom/blob/main/Digits_SVM.ipynb\" target=\"_parent\"><img src=\"https://colab.research.google.com/assets/colab-badge.svg\" alt=\"Open In Colab\"/></a>"
      ]
    },
    {
      "cell_type": "markdown",
      "metadata": {
        "id": "VmdjgmlnDyhW"
      },
      "source": [
        "_________________\r\n",
        "\r\n",
        "# Support Vector Machine Assignment\r\n",
        "\r\n",
        "\r\n",
        "\r\n",
        "\r\n",
        "\r\n",
        "-----------\r\n",
        "\r\n",
        "\r\n",
        "\r\n"
      ]
    },
    {
      "cell_type": "markdown",
      "metadata": {
        "id": "mIM9ougaprZP"
      },
      "source": [
        "### Description  [ load_digits ]"
      ]
    },
    {
      "cell_type": "markdown",
      "metadata": {
        "id": "1AN6oY4CpIWu"
      },
      "source": [
        "![aaaa.png](data:image/png;base64,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)"
      ]
    },
    {
      "cell_type": "markdown",
      "metadata": {
        "id": "M8H_WujHrfi9"
      },
      "source": [
        "#### Reading the data from built-in datasets using sklearn module"
      ]
    },
    {
      "cell_type": "code",
      "metadata": {
        "collapsed": true,
        "id": "VPiSYDjjDyhb"
      },
      "source": [
        "import numpy as np\n",
        "import pandas as pd\n",
        "import matplotlib.pyplot as plt\n",
        "\n",
        "from sklearn.datasets import load_digits\n",
        "digits = load_digits()"
      ],
      "execution_count": 212,
      "outputs": []
    },
    {
      "cell_type": "code",
      "metadata": {
        "id": "WApQ6NgS4siD",
        "colab": {
          "base_uri": "https://localhost:8080/"
        },
        "outputId": "315a360d-22a2-4e59-e748-aca5465c5e85"
      },
      "source": [
        "dir(digits)"
      ],
      "execution_count": 213,
      "outputs": [
        {
          "output_type": "execute_result",
          "data": {
            "text/plain": [
              "['DESCR', 'data', 'images', 'target', 'target_names']"
            ]
          },
          "metadata": {
            "tags": []
          },
          "execution_count": 213
        }
      ]
    },
    {
      "cell_type": "code",
      "metadata": {
        "colab": {
          "base_uri": "https://localhost:8080/",
          "height": 103
        },
        "id": "16QrDJEYiNW_",
        "outputId": "7f36f3ef-8c47-4495-c13b-6116163bf4d2"
      },
      "source": [
        "digits.DESCR"
      ],
      "execution_count": 215,
      "outputs": [
        {
          "output_type": "execute_result",
          "data": {
            "application/vnd.google.colaboratory.intrinsic+json": {
              "type": "string"
            },
            "text/plain": [
              "\".. _digits_dataset:\\n\\nOptical recognition of handwritten digits dataset\\n--------------------------------------------------\\n\\n**Data Set Characteristics:**\\n\\n    :Number of Instances: 5620\\n    :Number of Attributes: 64\\n    :Attribute Information: 8x8 image of integer pixels in the range 0..16.\\n    :Missing Attribute Values: None\\n    :Creator: E. Alpaydin (alpaydin '@' boun.edu.tr)\\n    :Date: July; 1998\\n\\nThis is a copy of the test set of the UCI ML hand-written digits datasets\\nhttps://archive.ics.uci.edu/ml/datasets/Optical+Recognition+of+Handwritten+Digits\\n\\nThe data set contains images of hand-written digits: 10 classes where\\neach class refers to a digit.\\n\\nPreprocessing programs made available by NIST were used to extract\\nnormalized bitmaps of handwritten digits from a preprinted form. From a\\ntotal of 43 people, 30 contributed to the training set and different 13\\nto the test set. 32x32 bitmaps are divided into nonoverlapping blocks of\\n4x4 and the number of on pixels are counted in each block. This generates\\nan input matrix of 8x8 where each element is an integer in the range\\n0..16. This reduces dimensionality and gives invariance to small\\ndistortions.\\n\\nFor info on NIST preprocessing routines, see M. D. Garris, J. L. Blue, G.\\nT. Candela, D. L. Dimmick, J. Geist, P. J. Grother, S. A. Janet, and C.\\nL. Wilson, NIST Form-Based Handprint Recognition System, NISTIR 5469,\\n1994.\\n\\n.. topic:: References\\n\\n  - C. Kaynak (1995) Methods of Combining Multiple Classifiers and Their\\n    Applications to Handwritten Digit Recognition, MSc Thesis, Institute of\\n    Graduate Studies in Science and Engineering, Bogazici University.\\n  - E. Alpaydin, C. Kaynak (1998) Cascading Classifiers, Kybernetika.\\n  - Ken Tang and Ponnuthurai N. Suganthan and Xi Yao and A. Kai Qin.\\n    Linear dimensionalityreduction using relevance weighted LDA. School of\\n    Electrical and Electronic Engineering Nanyang Technological University.\\n    2005.\\n  - Claudio Gentile. A New Approximate Maximal Margin Classification\\n    Algorithm. NIPS. 2000.\""
            ]
          },
          "metadata": {
            "tags": []
          },
          "execution_count": 215
        }
      ]
    },
    {
      "cell_type": "code",
      "metadata": {
        "colab": {
          "base_uri": "https://localhost:8080/"
        },
        "id": "qTfz1MHRDyhd",
        "outputId": "52e9eec7-a883-47f3-e1a6-3be743c83b21"
      },
      "source": [
        "digits.target_names"
      ],
      "execution_count": 216,
      "outputs": [
        {
          "output_type": "execute_result",
          "data": {
            "text/plain": [
              "array([0, 1, 2, 3, 4, 5, 6, 7, 8, 9])"
            ]
          },
          "metadata": {
            "tags": []
          },
          "execution_count": 216
        }
      ]
    },
    {
      "cell_type": "code",
      "metadata": {
        "colab": {
          "base_uri": "https://localhost:8080/"
        },
        "id": "Wyn6LrmifwBn",
        "outputId": "6a00580e-0cf1-4f44-f73e-f2481d551e30"
      },
      "source": [
        "digits.data"
      ],
      "execution_count": 217,
      "outputs": [
        {
          "output_type": "execute_result",
          "data": {
            "text/plain": [
              "array([[ 0.,  0.,  5., ...,  0.,  0.,  0.],\n",
              "       [ 0.,  0.,  0., ..., 10.,  0.,  0.],\n",
              "       [ 0.,  0.,  0., ..., 16.,  9.,  0.],\n",
              "       ...,\n",
              "       [ 0.,  0.,  1., ...,  6.,  0.,  0.],\n",
              "       [ 0.,  0.,  2., ..., 12.,  0.,  0.],\n",
              "       [ 0.,  0., 10., ..., 12.,  1.,  0.]])"
            ]
          },
          "metadata": {
            "tags": []
          },
          "execution_count": 217
        }
      ]
    },
    {
      "cell_type": "markdown",
      "metadata": {
        "id": "d0yBvFNG2kz8"
      },
      "source": [
        "## Visualizing the digits using Matplotlib library"
      ]
    },
    {
      "cell_type": "code",
      "metadata": {
        "colab": {
          "base_uri": "https://localhost:8080/",
          "height": 578
        },
        "id": "zmkLKGnFydIA",
        "outputId": "d2bee30a-93db-4898-cf01-827816b1892c"
      },
      "source": [
        "import math\r\n",
        "\r\n",
        "numbers_to_display = 25\r\n",
        "num_cells = math.ceil(math.sqrt(numbers_to_display))\r\n",
        "plt.figure(figsize=(10,10))\r\n",
        "for i in range(numbers_to_display):\r\n",
        "    plt.subplot(num_cells, num_cells, i+1)\r\n",
        "    plt.xticks([])\r\n",
        "    plt.yticks([])\r\n",
        "    plt.grid(False)\r\n",
        "    plt.imshow(digits.images[i], cmap=plt.cm.binary)\r\n",
        "plt.show()"
      ],
      "execution_count": 214,
      "outputs": [
        {
          "output_type": "display_data",
          "data": {
            "image/png": "[encoded data removed]",
            "text/plain": [
              "<Figure size 720x720 with 25 Axes>"
            ]
          },
          "metadata": {
            "tags": []
          }
        }
      ]
    },
    {
      "cell_type": "markdown",
      "metadata": {
        "id": "XTpSwJkWe1fF"
      },
      "source": [
        "__________________________________________________\r\n",
        "\r\n",
        "##  Scaling the data by using StandardScaler "
      ]
    },
    {
      "cell_type": "code",
      "metadata": {
        "id": "deX7xWYZe1Rs"
      },
      "source": [
        "from sklearn.preprocessing import StandardScaler\r\n",
        "sc=StandardScaler()\r\n",
        "dan=sc.fit_transform(digits.data)"
      ],
      "execution_count": 218,
      "outputs": []
    },
    {
      "cell_type": "code",
      "metadata": {
        "colab": {
          "base_uri": "https://localhost:8080/"
        },
        "id": "NLtQpAeWe1OM",
        "outputId": "15e548e2-20e0-4c75-d5fa-a74c4c95e48f"
      },
      "source": [
        "dan"
      ],
      "execution_count": 219,
      "outputs": [
        {
          "output_type": "execute_result",
          "data": {
            "text/plain": [
              "array([[ 0.        , -0.33501649, -0.04308102, ..., -1.14664746,\n",
              "        -0.5056698 , -0.19600752],\n",
              "       [ 0.        , -0.33501649, -1.09493684, ...,  0.54856067,\n",
              "        -0.5056698 , -0.19600752],\n",
              "       [ 0.        , -0.33501649, -1.09493684, ...,  1.56568555,\n",
              "         1.6951369 , -0.19600752],\n",
              "       ...,\n",
              "       [ 0.        , -0.33501649, -0.88456568, ..., -0.12952258,\n",
              "        -0.5056698 , -0.19600752],\n",
              "       [ 0.        , -0.33501649, -0.67419451, ...,  0.8876023 ,\n",
              "        -0.5056698 , -0.19600752],\n",
              "       [ 0.        , -0.33501649,  1.00877481, ...,  0.8876023 ,\n",
              "        -0.26113572, -0.19600752]])"
            ]
          },
          "metadata": {
            "tags": []
          },
          "execution_count": 219
        }
      ]
    },
    {
      "cell_type": "markdown",
      "metadata": {
        "id": "-xxW-XrxLas-"
      },
      "source": [
        "___________________________\r\n",
        "\r\n",
        "## PCA for Dimensionality Reduction"
      ]
    },
    {
      "cell_type": "code",
      "metadata": {
        "id": "4l4NLXj3LeYV"
      },
      "source": [
        "from sklearn.decomposition import PCA"
      ],
      "execution_count": 220,
      "outputs": []
    },
    {
      "cell_type": "code",
      "metadata": {
        "id": "a02R55CPLfD0"
      },
      "source": [
        "#cov = red.cov()\r\n",
        "#eig_val, eig_vec=np.linalg.eig(cov)"
      ],
      "execution_count": 221,
      "outputs": []
    },
    {
      "cell_type": "code",
      "metadata": {
        "colab": {
          "base_uri": "https://localhost:8080/"
        },
        "id": "FO62PsHnLe0d",
        "outputId": "758322f0-2257-4ff0-844a-02d8db43e24e"
      },
      "source": [
        "pca=PCA(n_components=.95)\r\n",
        "ming=pca.fit_transform(dan)\r\n",
        "cumsum=np.cumsum(pca.explained_variance_ratio_)\r\n",
        "np.argmax(cumsum>=0.95)+1"
      ],
      "execution_count": 222,
      "outputs": [
        {
          "output_type": "execute_result",
          "data": {
            "text/plain": [
              "40"
            ]
          },
          "metadata": {
            "tags": []
          },
          "execution_count": 222
        }
      ]
    },
    {
      "cell_type": "code",
      "metadata": {
        "id": "5ibNxfeCRA1h"
      },
      "source": [
        "black=pd.DataFrame(ming)"
      ],
      "execution_count": 223,
      "outputs": []
    },
    {
      "cell_type": "code",
      "metadata": {
        "colab": {
          "base_uri": "https://localhost:8080/"
        },
        "id": "taCH5jONPaFt",
        "outputId": "d6d7af08-7db0-412b-fe7d-33c4cc14f107"
      },
      "source": [
        "black.shape"
      ],
      "execution_count": 224,
      "outputs": [
        {
          "output_type": "execute_result",
          "data": {
            "text/plain": [
              "(1797, 40)"
            ]
          },
          "metadata": {
            "tags": []
          },
          "execution_count": 224
        }
      ]
    },
    {
      "cell_type": "code",
      "metadata": {
        "colab": {
          "base_uri": "https://localhost:8080/",
          "height": 439
        },
        "id": "UunXodObRvUO",
        "outputId": "82dd86cc-8d7c-4736-bbb8-80c02c077031"
      },
      "source": [
        "#black['target']=digits.target\r\n",
        "black"
      ],
      "execution_count": 225,
      "outputs": [
        {
          "output_type": "execute_result",
          "data": {
            "text/html": [
              "<div>\n",
              "<style scoped>\n",
              "    .dataframe tbody tr th:only-of-type {\n",
              "        vertical-align: middle;\n",
              "    }\n",
              "\n",
              "    .dataframe tbody tr th {\n",
              "        vertical-align: top;\n",
              "    }\n",
              "\n",
              "    .dataframe thead th {\n",
              "        text-align: right;\n",
              "    }\n",
              "</style>\n",
              "<table border=\"1\" class=\"dataframe\">\n",
              "  <thead>\n",
              "    <tr style=\"text-align: right;\">\n",
              "      <th></th>\n",
              "      <th>0</th>\n",
              "      <th>1</th>\n",
              "      <th>2</th>\n",
              "      <th>3</th>\n",
              "      <th>4</th>\n",
              "      <th>5</th>\n",
              "      <th>6</th>\n",
              "      <th>7</th>\n",
              "      <th>8</th>\n",
              "      <th>9</th>\n",
              "      <th>10</th>\n",
              "      <th>11</th>\n",
              "      <th>12</th>\n",
              "      <th>13</th>\n",
              "      <th>14</th>\n",
              "      <th>15</th>\n",
              "      <th>16</th>\n",
              "      <th>17</th>\n",
              "      <th>18</th>\n",
              "      <th>19</th>\n",
              "      <th>20</th>\n",
              "      <th>21</th>\n",
              "      <th>22</th>\n",
              "      <th>23</th>\n",
              "      <th>24</th>\n",
              "      <th>25</th>\n",
              "      <th>26</th>\n",
              "      <th>27</th>\n",
              "      <th>28</th>\n",
              "      <th>29</th>\n",
              "      <th>30</th>\n",
              "      <th>31</th>\n",
              "      <th>32</th>\n",
              "      <th>33</th>\n",
              "      <th>34</th>\n",
              "      <th>35</th>\n",
              "      <th>36</th>\n",
              "      <th>37</th>\n",
              "      <th>38</th>\n",
              "      <th>39</th>\n",
              "    </tr>\n",
              "  </thead>\n",
              "  <tbody>\n",
              "    <tr>\n",
              "      <th>0</th>\n",
              "      <td>1.914214</td>\n",
              "      <td>-0.954502</td>\n",
              "      <td>-3.946035</td>\n",
              "      <td>2.028723</td>\n",
              "      <td>-0.267173</td>\n",
              "      <td>0.530327</td>\n",
              "      <td>-1.415321</td>\n",
              "      <td>1.496062</td>\n",
              "      <td>0.124914</td>\n",
              "      <td>-0.822246</td>\n",
              "      <td>-0.499693</td>\n",
              "      <td>-0.789466</td>\n",
              "      <td>0.228125</td>\n",
              "      <td>-0.195142</td>\n",
              "      <td>0.837040</td>\n",
              "      <td>0.104341</td>\n",
              "      <td>0.185323</td>\n",
              "      <td>-0.090057</td>\n",
              "      <td>0.412754</td>\n",
              "      <td>0.430517</td>\n",
              "      <td>0.450994</td>\n",
              "      <td>0.558703</td>\n",
              "      <td>0.508826</td>\n",
              "      <td>-0.758896</td>\n",
              "      <td>-0.464500</td>\n",
              "      <td>0.732176</td>\n",
              "      <td>0.327318</td>\n",
              "      <td>0.157022</td>\n",
              "      <td>0.404918</td>\n",
              "      <td>-0.324594</td>\n",
              "      <td>0.534683</td>\n",
              "      <td>-0.017979</td>\n",
              "      <td>0.047950</td>\n",
              "      <td>0.019124</td>\n",
              "      <td>0.117190</td>\n",
              "      <td>0.709049</td>\n",
              "      <td>0.082410</td>\n",
              "      <td>0.814059</td>\n",
              "      <td>0.024931</td>\n",
              "      <td>0.321931</td>\n",
              "    </tr>\n",
              "    <tr>\n",
              "      <th>1</th>\n",
              "      <td>0.588980</td>\n",
              "      <td>0.924636</td>\n",
              "      <td>3.924755</td>\n",
              "      <td>-1.779850</td>\n",
              "      <td>-0.993430</td>\n",
              "      <td>-0.675652</td>\n",
              "      <td>1.878565</td>\n",
              "      <td>0.556336</td>\n",
              "      <td>1.079877</td>\n",
              "      <td>0.087451</td>\n",
              "      <td>-0.505000</td>\n",
              "      <td>0.641593</td>\n",
              "      <td>-0.048361</td>\n",
              "      <td>-0.392054</td>\n",
              "      <td>-0.744412</td>\n",
              "      <td>-0.214072</td>\n",
              "      <td>-0.101727</td>\n",
              "      <td>-0.422000</td>\n",
              "      <td>0.553085</td>\n",
              "      <td>-0.069676</td>\n",
              "      <td>0.909818</td>\n",
              "      <td>-0.242434</td>\n",
              "      <td>-0.478472</td>\n",
              "      <td>0.491158</td>\n",
              "      <td>0.790504</td>\n",
              "      <td>0.067788</td>\n",
              "      <td>-1.525555</td>\n",
              "      <td>-0.742482</td>\n",
              "      <td>-0.855856</td>\n",
              "      <td>-0.277084</td>\n",
              "      <td>1.098196</td>\n",
              "      <td>-1.144159</td>\n",
              "      <td>0.037744</td>\n",
              "      <td>0.371680</td>\n",
              "      <td>-0.671299</td>\n",
              "      <td>-0.004144</td>\n",
              "      <td>-0.246765</td>\n",
              "      <td>0.200261</td>\n",
              "      <td>0.087108</td>\n",
              "      <td>-0.489143</td>\n",
              "    </tr>\n",
              "    <tr>\n",
              "      <th>2</th>\n",
              "      <td>1.302039</td>\n",
              "      <td>-0.317189</td>\n",
              "      <td>3.023333</td>\n",
              "      <td>-2.043376</td>\n",
              "      <td>-2.081155</td>\n",
              "      <td>0.935121</td>\n",
              "      <td>-1.296200</td>\n",
              "      <td>1.156160</td>\n",
              "      <td>0.785606</td>\n",
              "      <td>-1.099206</td>\n",
              "      <td>2.196453</td>\n",
              "      <td>-2.310276</td>\n",
              "      <td>-0.566874</td>\n",
              "      <td>-0.995772</td>\n",
              "      <td>-1.170505</td>\n",
              "      <td>0.399017</td>\n",
              "      <td>-0.240298</td>\n",
              "      <td>-0.465223</td>\n",
              "      <td>-1.065556</td>\n",
              "      <td>-1.133454</td>\n",
              "      <td>-0.525917</td>\n",
              "      <td>0.069262</td>\n",
              "      <td>-1.276142</td>\n",
              "      <td>-0.389437</td>\n",
              "      <td>-0.407580</td>\n",
              "      <td>-0.121614</td>\n",
              "      <td>0.373418</td>\n",
              "      <td>0.205099</td>\n",
              "      <td>-0.362138</td>\n",
              "      <td>1.181186</td>\n",
              "      <td>-0.749792</td>\n",
              "      <td>0.487304</td>\n",
              "      <td>-1.356959</td>\n",
              "      <td>-0.107016</td>\n",
              "      <td>0.149503</td>\n",
              "      <td>-0.089290</td>\n",
              "      <td>0.408216</td>\n",
              "      <td>-0.214596</td>\n",
              "      <td>-1.278875</td>\n",
              "      <td>0.545834</td>\n",
              "    </tr>\n",
              "    <tr>\n",
              "      <th>3</th>\n",
              "      <td>-3.020770</td>\n",
              "      <td>-0.868772</td>\n",
              "      <td>-0.801744</td>\n",
              "      <td>-2.187039</td>\n",
              "      <td>-0.556813</td>\n",
              "      <td>0.727124</td>\n",
              "      <td>0.959766</td>\n",
              "      <td>-1.382638</td>\n",
              "      <td>0.259075</td>\n",
              "      <td>0.744555</td>\n",
              "      <td>-1.065129</td>\n",
              "      <td>0.491755</td>\n",
              "      <td>-0.166579</td>\n",
              "      <td>1.008790</td>\n",
              "      <td>-0.141893</td>\n",
              "      <td>-1.000781</td>\n",
              "      <td>-0.950687</td>\n",
              "      <td>-0.400034</td>\n",
              "      <td>1.490825</td>\n",
              "      <td>0.308128</td>\n",
              "      <td>0.560421</td>\n",
              "      <td>-0.167976</td>\n",
              "      <td>0.573332</td>\n",
              "      <td>-0.532997</td>\n",
              "      <td>-0.084318</td>\n",
              "      <td>-0.466793</td>\n",
              "      <td>0.154232</td>\n",
              "      <td>-0.403244</td>\n",
              "      <td>0.291934</td>\n",
              "      <td>-1.244539</td>\n",
              "      <td>0.268599</td>\n",
              "      <td>0.875580</td>\n",
              "      <td>0.117581</td>\n",
              "      <td>-0.470575</td>\n",
              "      <td>-0.148854</td>\n",
              "      <td>0.234044</td>\n",
              "      <td>0.396726</td>\n",
              "      <td>0.197436</td>\n",
              "      <td>0.772751</td>\n",
              "      <td>-0.050325</td>\n",
              "    </tr>\n",
              "    <tr>\n",
              "      <th>4</th>\n",
              "      <td>4.528949</td>\n",
              "      <td>-1.093480</td>\n",
              "      <td>0.973121</td>\n",
              "      <td>-1.419510</td>\n",
              "      <td>-1.715106</td>\n",
              "      <td>1.431592</td>\n",
              "      <td>1.073649</td>\n",
              "      <td>-0.968240</td>\n",
              "      <td>-1.660216</td>\n",
              "      <td>1.174593</td>\n",
              "      <td>-1.017440</td>\n",
              "      <td>-1.365994</td>\n",
              "      <td>-0.343716</td>\n",
              "      <td>-0.113469</td>\n",
              "      <td>0.732635</td>\n",
              "      <td>0.210692</td>\n",
              "      <td>-0.094411</td>\n",
              "      <td>-0.552371</td>\n",
              "      <td>1.613976</td>\n",
              "      <td>1.086368</td>\n",
              "      <td>0.495644</td>\n",
              "      <td>-0.185698</td>\n",
              "      <td>0.960864</td>\n",
              "      <td>-0.184642</td>\n",
              "      <td>0.563999</td>\n",
              "      <td>-2.142481</td>\n",
              "      <td>0.064456</td>\n",
              "      <td>0.746668</td>\n",
              "      <td>1.076306</td>\n",
              "      <td>0.297665</td>\n",
              "      <td>-0.660454</td>\n",
              "      <td>-0.360253</td>\n",
              "      <td>0.268121</td>\n",
              "      <td>0.499444</td>\n",
              "      <td>-0.263106</td>\n",
              "      <td>-0.583008</td>\n",
              "      <td>-0.174328</td>\n",
              "      <td>-0.215579</td>\n",
              "      <td>-0.133426</td>\n",
              "      <td>0.184994</td>\n",
              "    </tr>\n",
              "    <tr>\n",
              "      <th>...</th>\n",
              "      <td>...</td>\n",
              "      <td>...</td>\n",
              "      <td>...</td>\n",
              "      <td>...</td>\n",
              "      <td>...</td>\n",
              "      <td>...</td>\n",
              "      <td>...</td>\n",
              "      <td>...</td>\n",
              "      <td>...</td>\n",
              "      <td>...</td>\n",
              "      <td>...</td>\n",
              "      <td>...</td>\n",
              "      <td>...</td>\n",
              "      <td>...</td>\n",
              "      <td>...</td>\n",
              "      <td>...</td>\n",
              "      <td>...</td>\n",
              "      <td>...</td>\n",
              "      <td>...</td>\n",
              "      <td>...</td>\n",
              "      <td>...</td>\n",
              "      <td>...</td>\n",
              "      <td>...</td>\n",
              "      <td>...</td>\n",
              "      <td>...</td>\n",
              "      <td>...</td>\n",
              "      <td>...</td>\n",
              "      <td>...</td>\n",
              "      <td>...</td>\n",
              "      <td>...</td>\n",
              "      <td>...</td>\n",
              "      <td>...</td>\n",
              "      <td>...</td>\n",
              "      <td>...</td>\n",
              "      <td>...</td>\n",
              "      <td>...</td>\n",
              "      <td>...</td>\n",
              "      <td>...</td>\n",
              "      <td>...</td>\n",
              "      <td>...</td>\n",
              "    </tr>\n",
              "    <tr>\n",
              "      <th>1792</th>\n",
              "      <td>0.104331</td>\n",
              "      <td>0.255024</td>\n",
              "      <td>-3.765861</td>\n",
              "      <td>-1.947006</td>\n",
              "      <td>-0.190094</td>\n",
              "      <td>-0.555760</td>\n",
              "      <td>0.531222</td>\n",
              "      <td>0.476475</td>\n",
              "      <td>1.152430</td>\n",
              "      <td>-0.473054</td>\n",
              "      <td>-0.635879</td>\n",
              "      <td>0.803622</td>\n",
              "      <td>1.205195</td>\n",
              "      <td>-0.700724</td>\n",
              "      <td>0.187246</td>\n",
              "      <td>0.161669</td>\n",
              "      <td>0.504438</td>\n",
              "      <td>0.357642</td>\n",
              "      <td>-0.956725</td>\n",
              "      <td>0.816109</td>\n",
              "      <td>0.030250</td>\n",
              "      <td>-0.783514</td>\n",
              "      <td>-0.676671</td>\n",
              "      <td>-0.042743</td>\n",
              "      <td>-0.359572</td>\n",
              "      <td>-0.066849</td>\n",
              "      <td>0.203868</td>\n",
              "      <td>0.058615</td>\n",
              "      <td>0.979933</td>\n",
              "      <td>-0.122796</td>\n",
              "      <td>-0.430137</td>\n",
              "      <td>-0.515627</td>\n",
              "      <td>-0.311117</td>\n",
              "      <td>0.421468</td>\n",
              "      <td>0.392554</td>\n",
              "      <td>0.420797</td>\n",
              "      <td>0.541567</td>\n",
              "      <td>-0.024422</td>\n",
              "      <td>-0.756333</td>\n",
              "      <td>-0.285562</td>\n",
              "    </tr>\n",
              "    <tr>\n",
              "      <th>1793</th>\n",
              "      <td>2.423234</td>\n",
              "      <td>-1.429611</td>\n",
              "      <td>-3.045245</td>\n",
              "      <td>2.632089</td>\n",
              "      <td>-0.822902</td>\n",
              "      <td>0.004061</td>\n",
              "      <td>-1.106872</td>\n",
              "      <td>2.330903</td>\n",
              "      <td>0.569455</td>\n",
              "      <td>-1.654173</td>\n",
              "      <td>-0.460155</td>\n",
              "      <td>-0.530551</td>\n",
              "      <td>0.858305</td>\n",
              "      <td>0.885069</td>\n",
              "      <td>-0.702222</td>\n",
              "      <td>1.098425</td>\n",
              "      <td>0.301699</td>\n",
              "      <td>-0.311522</td>\n",
              "      <td>-0.307535</td>\n",
              "      <td>0.110083</td>\n",
              "      <td>-0.957759</td>\n",
              "      <td>-0.041950</td>\n",
              "      <td>0.379564</td>\n",
              "      <td>0.082078</td>\n",
              "      <td>0.213136</td>\n",
              "      <td>-0.864603</td>\n",
              "      <td>0.272784</td>\n",
              "      <td>-0.567033</td>\n",
              "      <td>-0.769823</td>\n",
              "      <td>-0.008326</td>\n",
              "      <td>-0.047497</td>\n",
              "      <td>-0.131434</td>\n",
              "      <td>-0.194507</td>\n",
              "      <td>0.054860</td>\n",
              "      <td>-0.169494</td>\n",
              "      <td>-0.023170</td>\n",
              "      <td>-0.162096</td>\n",
              "      <td>-0.506573</td>\n",
              "      <td>-0.061084</td>\n",
              "      <td>-0.404112</td>\n",
              "    </tr>\n",
              "    <tr>\n",
              "      <th>1794</th>\n",
              "      <td>1.022596</td>\n",
              "      <td>-0.147911</td>\n",
              "      <td>2.469974</td>\n",
              "      <td>-0.620307</td>\n",
              "      <td>-0.972043</td>\n",
              "      <td>-0.007377</td>\n",
              "      <td>0.381115</td>\n",
              "      <td>0.529064</td>\n",
              "      <td>2.054709</td>\n",
              "      <td>-2.036838</td>\n",
              "      <td>-0.679554</td>\n",
              "      <td>0.396803</td>\n",
              "      <td>-0.409313</td>\n",
              "      <td>0.257614</td>\n",
              "      <td>0.334953</td>\n",
              "      <td>1.162071</td>\n",
              "      <td>1.124031</td>\n",
              "      <td>0.669245</td>\n",
              "      <td>-1.612100</td>\n",
              "      <td>0.182303</td>\n",
              "      <td>0.166667</td>\n",
              "      <td>-0.237439</td>\n",
              "      <td>0.041549</td>\n",
              "      <td>0.235181</td>\n",
              "      <td>-0.261485</td>\n",
              "      <td>-1.340361</td>\n",
              "      <td>-0.054225</td>\n",
              "      <td>-0.352066</td>\n",
              "      <td>0.521824</td>\n",
              "      <td>-0.271170</td>\n",
              "      <td>-0.947936</td>\n",
              "      <td>-0.152536</td>\n",
              "      <td>0.050913</td>\n",
              "      <td>0.595505</td>\n",
              "      <td>1.019822</td>\n",
              "      <td>0.134728</td>\n",
              "      <td>-0.543296</td>\n",
              "      <td>0.601365</td>\n",
              "      <td>0.412388</td>\n",
              "      <td>1.208864</td>\n",
              "    </tr>\n",
              "    <tr>\n",
              "      <th>1795</th>\n",
              "      <td>1.076055</td>\n",
              "      <td>-0.380906</td>\n",
              "      <td>-2.455487</td>\n",
              "      <td>-1.312013</td>\n",
              "      <td>0.253533</td>\n",
              "      <td>-0.638322</td>\n",
              "      <td>1.034470</td>\n",
              "      <td>0.763325</td>\n",
              "      <td>1.077474</td>\n",
              "      <td>-0.334527</td>\n",
              "      <td>-0.980131</td>\n",
              "      <td>0.606451</td>\n",
              "      <td>0.169573</td>\n",
              "      <td>-0.759176</td>\n",
              "      <td>0.014572</td>\n",
              "      <td>0.158465</td>\n",
              "      <td>1.686638</td>\n",
              "      <td>0.811822</td>\n",
              "      <td>-1.769181</td>\n",
              "      <td>0.774718</td>\n",
              "      <td>-0.135668</td>\n",
              "      <td>-0.433929</td>\n",
              "      <td>1.111662</td>\n",
              "      <td>0.312411</td>\n",
              "      <td>-0.940159</td>\n",
              "      <td>1.152000</td>\n",
              "      <td>-0.662983</td>\n",
              "      <td>0.979041</td>\n",
              "      <td>0.293561</td>\n",
              "      <td>-0.711736</td>\n",
              "      <td>0.176904</td>\n",
              "      <td>-0.446737</td>\n",
              "      <td>-0.468408</td>\n",
              "      <td>0.160652</td>\n",
              "      <td>-0.771848</td>\n",
              "      <td>0.576100</td>\n",
              "      <td>0.429805</td>\n",
              "      <td>0.437566</td>\n",
              "      <td>-0.698635</td>\n",
              "      <td>-0.443400</td>\n",
              "    </tr>\n",
              "    <tr>\n",
              "      <th>1796</th>\n",
              "      <td>-1.257702</td>\n",
              "      <td>-2.227591</td>\n",
              "      <td>0.283628</td>\n",
              "      <td>-0.127073</td>\n",
              "      <td>-1.570173</td>\n",
              "      <td>2.342953</td>\n",
              "      <td>-0.383075</td>\n",
              "      <td>-1.200566</td>\n",
              "      <td>0.816831</td>\n",
              "      <td>-1.825428</td>\n",
              "      <td>-0.085511</td>\n",
              "      <td>0.549436</td>\n",
              "      <td>0.099634</td>\n",
              "      <td>0.757965</td>\n",
              "      <td>1.825514</td>\n",
              "      <td>0.248320</td>\n",
              "      <td>0.643783</td>\n",
              "      <td>1.944213</td>\n",
              "      <td>-2.438979</td>\n",
              "      <td>-1.132762</td>\n",
              "      <td>-1.114587</td>\n",
              "      <td>-0.291210</td>\n",
              "      <td>-1.073341</td>\n",
              "      <td>-0.274700</td>\n",
              "      <td>-0.909278</td>\n",
              "      <td>-0.450495</td>\n",
              "      <td>-0.322974</td>\n",
              "      <td>0.916469</td>\n",
              "      <td>0.629528</td>\n",
              "      <td>0.327032</td>\n",
              "      <td>0.600322</td>\n",
              "      <td>0.436500</td>\n",
              "      <td>-0.922706</td>\n",
              "      <td>-0.061561</td>\n",
              "      <td>-0.548583</td>\n",
              "      <td>-0.763627</td>\n",
              "      <td>-0.266967</td>\n",
              "      <td>-0.381086</td>\n",
              "      <td>0.128551</td>\n",
              "      <td>1.321372</td>\n",
              "    </tr>\n",
              "  </tbody>\n",
              "</table>\n",
              "<p>1797 rows × 40 columns</p>\n",
              "</div>"
            ],
            "text/plain": [
              "            0         1         2   ...        37        38        39\n",
              "0     1.914214 -0.954502 -3.946035  ...  0.814059  0.024931  0.321931\n",
              "1     0.588980  0.924636  3.924755  ...  0.200261  0.087108 -0.489143\n",
              "2     1.302039 -0.317189  3.023333  ... -0.214596 -1.278875  0.545834\n",
              "3    -3.020770 -0.868772 -0.801744  ...  0.197436  0.772751 -0.050325\n",
              "4     4.528949 -1.093480  0.973121  ... -0.215579 -0.133426  0.184994\n",
              "...        ...       ...       ...  ...       ...       ...       ...\n",
              "1792  0.104331  0.255024 -3.765861  ... -0.024422 -0.756333 -0.285562\n",
              "1793  2.423234 -1.429611 -3.045245  ... -0.506573 -0.061084 -0.404112\n",
              "1794  1.022596 -0.147911  2.469974  ...  0.601365  0.412388  1.208864\n",
              "1795  1.076055 -0.380906 -2.455487  ...  0.437566 -0.698635 -0.443400\n",
              "1796 -1.257702 -2.227591  0.283628  ... -0.381086  0.128551  1.321372\n",
              "\n",
              "[1797 rows x 40 columns]"
            ]
          },
          "metadata": {
            "tags": []
          },
          "execution_count": 225
        }
      ]
    },
    {
      "cell_type": "code",
      "metadata": {
        "colab": {
          "base_uri": "https://localhost:8080/",
          "height": 279
        },
        "id": "j3K8e4l-PcoN",
        "outputId": "40cc9063-1255-464b-e4bf-8f534e044f38"
      },
      "source": [
        "plt.plot(cumsum)\r\n",
        "plt.xlabel('number of components')\r\n",
        "plt.ylabel('cumulative explained variance')\r\n",
        "plt.show()"
      ],
      "execution_count": 226,
      "outputs": [
        {
          "output_type": "display_data",
          "data": {
            "image/png": "[encoded data removed]",
            "text/plain": [
              "<Figure size 432x288 with 1 Axes>"
            ]
          },
          "metadata": {
            "tags": [],
            "needs_background": "light"
          }
        }
      ]
    },
    {
      "cell_type": "markdown",
      "metadata": {
        "id": "R63sMeGwDyhh"
      },
      "source": [
        "__________________________________________________\r\n",
        "\r\n",
        "## Training the model Using Support Vector Machine (SVM)"
      ]
    },
    {
      "cell_type": "code",
      "metadata": {
        "colab": {
          "base_uri": "https://localhost:8080/"
        },
        "id": "OBo0RVgHDyhh",
        "outputId": "b8ea2f9d-b940-4d2f-8116-a550d60c5713"
      },
      "source": [
        "X = digits.data\n",
        "y = digits.target\n",
        "X.shape"
      ],
      "execution_count": 227,
      "outputs": [
        {
          "output_type": "execute_result",
          "data": {
            "text/plain": [
              "(1797, 64)"
            ]
          },
          "metadata": {
            "tags": []
          },
          "execution_count": 227
        }
      ]
    },
    {
      "cell_type": "code",
      "metadata": {
        "id": "NrOx_ixuC4ud"
      },
      "source": [
        "from sklearn.model_selection import cross_val_score\r\n",
        "from sklearn.pipeline import make_pipeline\r\n",
        "from sklearn.svm import SVC\r\n",
        "%matplotlib inline"
      ],
      "execution_count": 256,
      "outputs": []
    },
    {
      "cell_type": "code",
      "metadata": {
        "colab": {
          "base_uri": "https://localhost:8080/"
        },
        "id": "CL9IKD1KHE2o",
        "outputId": "5b646ec9-f7fd-423c-f638-984fd6a4bc78"
      },
      "source": [
        "kernels = [\"linear\", \"poly\", \"rbf\", \"sigmoid\"]\r\n",
        "scores = []\r\n",
        "\r\n",
        "for kernel in kernels:\r\n",
        "    print(\"------> Building model for {} kernel\".format(kernel))\r\n",
        "    model = make_pipeline( SVC(kernel=kernel,C=2, random_state=20))\r\n",
        "    model_scores = cross_val_score(model, X, y, cv=5, n_jobs=-1, scoring='accuracy')\r\n",
        "    print(\": Accuracy scores {}\".format(model_scores))\r\n",
        "    scores.append(model_scores.mean())\r\n",
        "    del model"
      ],
      "execution_count": 229,
      "outputs": [
        {
          "output_type": "stream",
          "text": [
            "------> Building model for linear kernel\n",
            ": Accuracy scores [0.96388889 0.91944444 0.96657382 0.9637883  0.92479109]\n",
            "------> Building model for poly kernel\n",
            ": Accuracy scores [0.98333333 0.94722222 0.98050139 0.98885794 0.94707521]\n",
            "------> Building model for rbf kernel\n",
            ": Accuracy scores [0.98055556 0.94722222 0.98328691 0.98885794 0.95264624]\n",
            "------> Building model for sigmoid kernel\n",
            ": Accuracy scores [0.85277778 0.79166667 0.86908078 0.8913649  0.81337047]\n"
          ],
          "name": "stdout"
        }
      ]
    },
    {
      "cell_type": "code",
      "metadata": {
        "colab": {
          "base_uri": "https://localhost:8080/",
          "height": 606
        },
        "id": "_6MYElsaDvIp",
        "outputId": "1a53c46a-386e-42cb-9508-18b190ffdddb"
      },
      "source": [
        "plt.figure(figsize=(20,10))\r\n",
        "plt.plot(kernels, scores)\r\n",
        "\r\n",
        "plt.xlabel('Kernel Type')\r\n",
        "plt.ylabel('Cross-Validated Accuracy')\r\n",
        "plt.show()"
      ],
      "execution_count": 230,
      "outputs": [
        {
          "output_type": "display_data",
          "data": {
            "image/png": "[encoded data removed]",
            "text/plain": [
              "<Figure size 1440x720 with 1 Axes>"
            ]
          },
          "metadata": {
            "tags": [],
            "needs_background": "light"
          }
        }
      ]
    },
    {
      "cell_type": "code",
      "metadata": {
        "collapsed": true,
        "id": "z6k6GqNFDyhh"
      },
      "source": [
        "from sklearn.model_selection import train_test_split\r\n",
        "X_train, X_test, y_train, y_test = train_test_split(X, y, test_size=0.2)"
      ],
      "execution_count": 231,
      "outputs": []
    },
    {
      "cell_type": "code",
      "metadata": {
        "colab": {
          "base_uri": "https://localhost:8080/"
        },
        "id": "Xu81vQ2HDyhi",
        "outputId": "007411a4-c24c-49e8-a56a-4c931ab7f2bc"
      },
      "source": [
        "len(X_train)"
      ],
      "execution_count": 232,
      "outputs": [
        {
          "output_type": "execute_result",
          "data": {
            "text/plain": [
              "1437"
            ]
          },
          "metadata": {
            "tags": []
          },
          "execution_count": 232
        }
      ]
    },
    {
      "cell_type": "code",
      "metadata": {
        "colab": {
          "base_uri": "https://localhost:8080/"
        },
        "id": "Y0vJtmD-Dyhi",
        "outputId": "afa1dab2-6223-4abc-bc1f-39dbd75b1e58"
      },
      "source": [
        "len(X_test)"
      ],
      "execution_count": 233,
      "outputs": [
        {
          "output_type": "execute_result",
          "data": {
            "text/plain": [
              "360"
            ]
          },
          "metadata": {
            "tags": []
          },
          "execution_count": 233
        }
      ]
    },
    {
      "cell_type": "code",
      "metadata": {
        "collapsed": true,
        "id": "mKJf2mfxDyhi"
      },
      "source": [
        "from sklearn.svm import SVC\n",
        "model = SVC(kernel='rbf')"
      ],
      "execution_count": 234,
      "outputs": []
    },
    {
      "cell_type": "code",
      "metadata": {
        "colab": {
          "base_uri": "https://localhost:8080/"
        },
        "id": "0eSWOrjzDyhi",
        "outputId": "09d71212-4c6f-4dd2-c62f-0b724a4c7d01"
      },
      "source": [
        "model.fit(X_train, y_train)"
      ],
      "execution_count": 235,
      "outputs": [
        {
          "output_type": "execute_result",
          "data": {
            "text/plain": [
              "SVC(C=1.0, break_ties=False, cache_size=200, class_weight=None, coef0=0.0,\n",
              "    decision_function_shape='ovr', degree=3, gamma='scale', kernel='rbf',\n",
              "    max_iter=-1, probability=False, random_state=None, shrinking=True,\n",
              "    tol=0.001, verbose=False)"
            ]
          },
          "metadata": {
            "tags": []
          },
          "execution_count": 235
        }
      ]
    },
    {
      "cell_type": "code",
      "metadata": {
        "colab": {
          "base_uri": "https://localhost:8080/"
        },
        "id": "bViAH8vkm6nN",
        "outputId": "1168e6c3-030d-427a-a199-4aefaa1207c4"
      },
      "source": [
        "pre=model.predict(X_test)\r\n",
        "pre.shape"
      ],
      "execution_count": 236,
      "outputs": [
        {
          "output_type": "execute_result",
          "data": {
            "text/plain": [
              "(360,)"
            ]
          },
          "metadata": {
            "tags": []
          },
          "execution_count": 236
        }
      ]
    },
    {
      "cell_type": "code",
      "metadata": {
        "colab": {
          "base_uri": "https://localhost:8080/"
        },
        "id": "zi6Ko-A4neuz",
        "outputId": "fc73a361-b259-47ef-cf12-a96f0225fc5a"
      },
      "source": [
        "y_test.shape"
      ],
      "execution_count": 237,
      "outputs": [
        {
          "output_type": "execute_result",
          "data": {
            "text/plain": [
              "(360,)"
            ]
          },
          "metadata": {
            "tags": []
          },
          "execution_count": 237
        }
      ]
    },
    {
      "cell_type": "code",
      "metadata": {
        "colab": {
          "base_uri": "https://localhost:8080/"
        },
        "id": "F2rDWY3BDyhj",
        "outputId": "0309d40e-d069-4cfa-a14c-45c86ff65756"
      },
      "source": [
        "model.score(X_test,y_test)"
      ],
      "execution_count": 238,
      "outputs": [
        {
          "output_type": "execute_result",
          "data": {
            "text/plain": [
              "0.9944444444444445"
            ]
          },
          "metadata": {
            "tags": []
          },
          "execution_count": 238
        }
      ]
    },
    {
      "cell_type": "code",
      "metadata": {
        "colab": {
          "base_uri": "https://localhost:8080/"
        },
        "id": "hl256ELjmL0A",
        "outputId": "dc93c6d3-8c49-4db4-d8b4-15144240589b"
      },
      "source": [
        "from sklearn.metrics import accuracy_score,r2_score,classification_report\r\n",
        "accuracy_score(y_test,pre)"
      ],
      "execution_count": 239,
      "outputs": [
        {
          "output_type": "execute_result",
          "data": {
            "text/plain": [
              "0.9944444444444445"
            ]
          },
          "metadata": {
            "tags": []
          },
          "execution_count": 239
        }
      ]
    },
    {
      "cell_type": "code",
      "metadata": {
        "colab": {
          "base_uri": "https://localhost:8080/"
        },
        "id": "tTX82XXJichB",
        "outputId": "1e25e366-53df-4f29-c45f-6a0a16070148"
      },
      "source": [
        "print(classification_report(y_test,pre))"
      ],
      "execution_count": 240,
      "outputs": [
        {
          "output_type": "stream",
          "text": [
            "              precision    recall  f1-score   support\n",
            "\n",
            "           0       1.00      1.00      1.00        34\n",
            "           1       0.97      1.00      0.99        36\n",
            "           2       1.00      1.00      1.00        33\n",
            "           3       1.00      1.00      1.00        29\n",
            "           4       1.00      1.00      1.00        35\n",
            "           5       1.00      0.97      0.99        34\n",
            "           6       0.98      1.00      0.99        42\n",
            "           7       1.00      1.00      1.00        49\n",
            "           8       1.00      0.97      0.99        39\n",
            "           9       1.00      1.00      1.00        29\n",
            "\n",
            "    accuracy                           0.99       360\n",
            "   macro avg       0.99      0.99      0.99       360\n",
            "weighted avg       0.99      0.99      0.99       360\n",
            "\n"
          ],
          "name": "stdout"
        }
      ]
    },
    {
      "cell_type": "code",
      "metadata": {
        "colab": {
          "base_uri": "https://localhost:8080/"
        },
        "id": "rI-b4EWwohVc",
        "outputId": "67b00188-c331-4e39-9c3e-df4c4c32171e"
      },
      "source": [
        "r2_score(y_test,pre)"
      ],
      "execution_count": 241,
      "outputs": [
        {
          "output_type": "execute_result",
          "data": {
            "text/plain": [
              "0.9826260025037861"
            ]
          },
          "metadata": {
            "tags": []
          },
          "execution_count": 241
        }
      ]
    },
    {
      "cell_type": "markdown",
      "metadata": {
        "id": "-ZeDQDqjDyhj"
      },
      "source": [
        "**Tune parameters**"
      ]
    },
    {
      "cell_type": "markdown",
      "metadata": {
        "id": "2Ja5HOejDyhj"
      },
      "source": [
        "**1. Regularization (C)**"
      ]
    },
    {
      "cell_type": "code",
      "metadata": {
        "colab": {
          "base_uri": "https://localhost:8080/"
        },
        "id": "XiJssP0acWzG",
        "outputId": "6be13dc1-05f4-462a-81fe-e20bca49baea"
      },
      "source": [
        "mode=range(1,10)\r\n",
        "scores=[]\r\n",
        "for m in mode:\r\n",
        "    mod= SVC(C=m)\r\n",
        "    mod.fit(X_train, y_train)\r\n",
        "    score=mod.score(X_test, y_test)\r\n",
        "    print(\": Accuracy scores for C = {}\".format(m), \"is {}\".format(score))\r\n",
        "    scores.append(score*100)\r\n",
        "    del mod"
      ],
      "execution_count": 242,
      "outputs": [
        {
          "output_type": "stream",
          "text": [
            ": Accuracy scores for C = 1 is 0.9944444444444445\n",
            ": Accuracy scores for C = 2 is 0.9972222222222222\n",
            ": Accuracy scores for C = 3 is 0.9972222222222222\n",
            ": Accuracy scores for C = 4 is 0.9972222222222222\n",
            ": Accuracy scores for C = 5 is 0.9972222222222222\n",
            ": Accuracy scores for C = 6 is 0.9972222222222222\n",
            ": Accuracy scores for C = 7 is 0.9972222222222222\n",
            ": Accuracy scores for C = 8 is 0.9972222222222222\n",
            ": Accuracy scores for C = 9 is 0.9972222222222222\n"
          ],
          "name": "stdout"
        }
      ]
    },
    {
      "cell_type": "markdown",
      "metadata": {
        "id": "7blVRdbdeXF8"
      },
      "source": [
        "Hence, we can give the C value as [2] for getting the most robu. "
      ]
    },
    {
      "cell_type": "code",
      "metadata": {
        "colab": {
          "base_uri": "https://localhost:8080/"
        },
        "id": "4c0c3BIQDyhj",
        "outputId": "145aa89f-1bee-462b-90f3-4bb35a468bcb"
      },
      "source": [
        "model_C = SVC(C=2)\n",
        "model_C.fit(X_train, y_train)\n",
        "model_C.score(X_test, y_test)"
      ],
      "execution_count": 243,
      "outputs": [
        {
          "output_type": "execute_result",
          "data": {
            "text/plain": [
              "0.9972222222222222"
            ]
          },
          "metadata": {
            "tags": []
          },
          "execution_count": 243
        }
      ]
    },
    {
      "cell_type": "markdown",
      "metadata": {
        "id": "-wTz5DTBDyhk"
      },
      "source": [
        "**2. Gamma**"
      ]
    },
    {
      "cell_type": "markdown",
      "metadata": {
        "id": "6LXtvIXJvo9e"
      },
      "source": [
        "For a linear kernel, we just need to optimize the c parameter. However, if we want to use an RBF kernel, both c and gamma parameter need to optimized simultaneously. If gamma is large, the effect of c becomes negligible. If gamma is small, c affects the model just like how it affects a linear model."
      ]
    },
    {
      "cell_type": "code",
      "metadata": {
        "colab": {
          "base_uri": "https://localhost:8080/"
        },
        "id": "NAaVlmAqeuuq",
        "outputId": "2f877c0d-5811-436b-c6aa-bc713074b8d6"
      },
      "source": [
        "gamma=['scale','auto']\r\n",
        "scores=[]\r\n",
        "for g in gamma:\r\n",
        "    mod= SVC(kernel='rbf',gamma=g)\r\n",
        "    mod.fit(X_train, y_train)\r\n",
        "    score=mod.score(X_test, y_test)\r\n",
        "    print(\": Accuracy scores for Gamma value = ['{}']\".format(g), \"is {}\".format(score))\r\n",
        "    scores.append(score*100)\r\n",
        "    del mod"
      ],
      "execution_count": 246,
      "outputs": [
        {
          "output_type": "stream",
          "text": [
            ": Accuracy scores for Gamma value = ['scale'] is 0.9944444444444445\n",
            ": Accuracy scores for Gamma value = ['auto'] is 0.4388888888888889\n"
          ],
          "name": "stdout"
        }
      ]
    },
    {
      "cell_type": "code",
      "metadata": {
        "scrolled": true,
        "colab": {
          "base_uri": "https://localhost:8080/"
        },
        "id": "mu17lU7uDyhk",
        "outputId": "1844717d-a300-44b7-a844-cfc30cbee396"
      },
      "source": [
        "model_g = SVC(kernel='rbf',gamma=.003)\n",
        "model_g.fit(X_train, y_train)\n",
        "model_g.score(X_test, y_test)"
      ],
      "execution_count": 249,
      "outputs": [
        {
          "output_type": "execute_result",
          "data": {
            "text/plain": [
              "0.9916666666666667"
            ]
          },
          "metadata": {
            "tags": []
          },
          "execution_count": 249
        }
      ]
    },
    {
      "cell_type": "markdown",
      "metadata": {
        "id": "NncFH6NuDyhk"
      },
      "source": [
        "**3. Kernel**"
      ]
    },
    {
      "cell_type": "code",
      "metadata": {
        "colab": {
          "base_uri": "https://localhost:8080/"
        },
        "id": "hBYoNPqCDyhk",
        "outputId": "6ac6706f-d897-4e60-eeb9-5244ab76872c"
      },
      "source": [
        "model_linear_kernal = SVC(kernel='linear',C=2)\n",
        "model_linear_kernal.fit(X_train, y_train)"
      ],
      "execution_count": 254,
      "outputs": [
        {
          "output_type": "execute_result",
          "data": {
            "text/plain": [
              "SVC(C=2, break_ties=False, cache_size=200, class_weight=None, coef0=0.0,\n",
              "    decision_function_shape='ovr', degree=3, gamma='scale', kernel='linear',\n",
              "    max_iter=-1, probability=False, random_state=None, shrinking=True,\n",
              "    tol=0.001, verbose=False)"
            ]
          },
          "metadata": {
            "tags": []
          },
          "execution_count": 254
        }
      ]
    },
    {
      "cell_type": "code",
      "metadata": {
        "colab": {
          "base_uri": "https://localhost:8080/"
        },
        "id": "sZqv1ci_Dyhk",
        "outputId": "9c0c3019-002f-4b5c-9db1-31e974ad34cf"
      },
      "source": [
        "model_linear_kernal.score(X_test, y_test)"
      ],
      "execution_count": 255,
      "outputs": [
        {
          "output_type": "execute_result",
          "data": {
            "text/plain": [
              "0.9833333333333333"
            ]
          },
          "metadata": {
            "tags": []
          },
          "execution_count": 255
        }
      ]
    },
    {
      "cell_type": "code",
      "metadata": {
        "id": "rNLHQ2Sn2byU"
      },
      "source": [
        ""
      ],
      "execution_count": null,
      "outputs": []
    }
  ]
}